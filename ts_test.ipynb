{
 "cells": [
  {
   "cell_type": "code",
   "execution_count": 3,
   "metadata": {},
   "outputs": [],
   "source": [
    "import ts_lib"
   ]
  },
  {
   "cell_type": "code",
   "execution_count": 9,
   "metadata": {},
   "outputs": [],
   "source": [
    "fps = 200\n",
    "axes = ts_lib.axes\n",
    "interval = 1/fps\n",
    "xlim = (-2000,2000)\n",
    "ylim = (-2000,2000)"
   ]
  },
  {
   "cell_type": "code",
   "execution_count": 5,
   "metadata": {},
   "outputs": [],
   "source": [
    "data = ts_lib.draw_time_series(3,interval,xlim,ylim)"
   ]
  },
  {
   "cell_type": "code",
   "execution_count": 6,
   "metadata": {},
   "outputs": [],
   "source": [
    "ts_lib.plot_data(data,interval,xlim,ylim)"
   ]
  },
  {
   "cell_type": "code",
   "execution_count": 8,
   "metadata": {},
   "outputs": [],
   "source": [
    "seg = 25\n",
    "cdata = ts_lib.sorted_segment(data,seg,share_axis = True,share_trial = True)\n",
    "ts_lib.plot_data(cdata,interval,xlim=(0,seg+1),ylim=(0,seg+1))"
   ]
  },
  {
   "cell_type": "code",
   "execution_count": 12,
   "metadata": {},
   "outputs": [],
   "source": [
    "# import P'CHai Baboon Data\n",
    "from scipy.io import loadmat\n",
    "import numpy as np\n",
    "mat = loadmat('BaboonTrajectoryXY.mat')\n",
    "skip = int(1e3)\n",
    "data = []\n",
    "for i in range(16):\n",
    "    d = {'x':mat['TrajectoryXY'][0][0][i][::skip],'y':mat['TrajectoryXY'][0][1][i][::skip],'T':np.linspace(0, interval*419095, num=419095//skip)}\n",
    "    \n",
    "    #fill nan with value from future\n",
    "    for axis in axes:\n",
    "        for j in range(len(d[axis])-2,-1,-1):\n",
    "            if np.isnan(d[axis][j]):\n",
    "                d[axis][j] = d[axis][j+1]    \n",
    "    \n",
    "    data.append(d)"
   ]
  },
  {
   "cell_type": "code",
   "execution_count": 13,
   "metadata": {},
   "outputs": [],
   "source": [
    "ts_lib.plot_data(data,interval,xlim,ylim)"
   ]
  },
  {
   "cell_type": "code",
   "execution_count": 14,
   "metadata": {},
   "outputs": [],
   "source": [
    "seg = 10\n",
    "cdata = ts_lib.sorted_segment(data,seg,share_axis = True,share_trial = True)\n",
    "ts_lib.plot_data(cdata,interval,xlim=(0,seg+1),ylim=(0,seg+1))"
   ]
  },
  {
   "cell_type": "code",
   "execution_count": null,
   "metadata": {},
   "outputs": [],
   "source": []
  }
 ],
 "metadata": {
  "kernelspec": {
   "display_name": "tsa",
   "language": "python",
   "name": "python3"
  },
  "language_info": {
   "codemirror_mode": {
    "name": "ipython",
    "version": 3
   },
   "file_extension": ".py",
   "mimetype": "text/x-python",
   "name": "python",
   "nbconvert_exporter": "python",
   "pygments_lexer": "ipython3",
   "version": "3.9.18"
  }
 },
 "nbformat": 4,
 "nbformat_minor": 2
}
