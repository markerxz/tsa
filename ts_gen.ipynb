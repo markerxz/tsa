{
 "cells": [
  {
   "cell_type": "code",
   "execution_count": 113,
   "metadata": {},
   "outputs": [],
   "source": [
    "interval = 0.05\n",
    "def create_dat (interval = interval):\n",
    "    import json\n",
    "    import numpy as np\n",
    "    import matplotlib\n",
    "    matplotlib.use('TkAgg') \n",
    "    filename = 'drawing_data.json'\n",
    "    config = {\"interval\": interval}  # Set your desired sampling rate here\n",
    "    with open('config.json', 'w') as f:\n",
    "        json.dump(config,f)\n",
    "    %run ts_gen.py\n",
    "    with open(filename, 'r') as f:\n",
    "        dat = json.load(f)\n",
    "        for key in dat:\n",
    "            dat[key] = np.array(dat[key])\n",
    "    return dat\n",
    "    \n",
    "def plot_data (data):\n",
    "    import matplotlib.pyplot as plt\n",
    "    from matplotlib.animation import FuncAnimation\n",
    "    import matplotlib\n",
    "    matplotlib.use('TkAgg') \n",
    "\n",
    "\n",
    "    # Create the figure and axis for the animation\n",
    "    fig, ax = plt.subplots()\n",
    "    lines = [ax.plot([], [], marker='o')[0] for _ in data]\n",
    "\n",
    "    # Set the axes limits\n",
    "    ax.set_xlim(0, 1920)\n",
    "    ax.set_ylim(0, 1080)\n",
    "\n",
    "    # Initialize function for the animation\n",
    "    def init():\n",
    "        for line in lines:\n",
    "            line.set_data([], [])\n",
    "        return lines\n",
    "\n",
    "    # Animation update function\n",
    "    def animate(i):\n",
    "        for j, dataset in enumerate(data):\n",
    "            # Update each line up to the current frame\n",
    "            x = dataset['x'][:i]\n",
    "            y = dataset['y'][:i]\n",
    "            lines[j].set_data(x, y)\n",
    "        return lines\n",
    "\n",
    "    # Determine the number of frames based on the longest dataset\n",
    "    frames = max(len(dataset['T']) for dataset in data)\n",
    "    # Create the animation\n",
    "    k = 1\n",
    "    ani = FuncAnimation(fig, animate, frames=frames, init_func=init, blit=True, interval=interval*1000)\n",
    "    # Display the animation in a popup window\n",
    "    plt.show()\n"
   ]
  },
  {
   "cell_type": "code",
   "execution_count": 126,
   "metadata": {},
   "outputs": [],
   "source": [
    "data = [create_dat() for i in range(3)]"
   ]
  },
  {
   "cell_type": "code",
   "execution_count": 127,
   "metadata": {},
   "outputs": [],
   "source": [
    "plot_data(data)"
   ]
  },
  {
   "cell_type": "code",
   "execution_count": null,
   "metadata": {},
   "outputs": [],
   "source": []
  }
 ],
 "metadata": {
  "kernelspec": {
   "display_name": "Python 3",
   "language": "python",
   "name": "python3"
  },
  "language_info": {
   "codemirror_mode": {
    "name": "ipython",
    "version": 3
   },
   "file_extension": ".py",
   "mimetype": "text/x-python",
   "name": "python",
   "nbconvert_exporter": "python",
   "pygments_lexer": "ipython3",
   "version": "3.9.18"
  }
 },
 "nbformat": 4,
 "nbformat_minor": 2
}
